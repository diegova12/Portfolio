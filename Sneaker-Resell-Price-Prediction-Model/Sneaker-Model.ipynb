{
 "cells": [
  {
   "cell_type": "markdown",
   "id": "ac3c62b2",
   "metadata": {},
   "source": [
    "## Introduction\n",
    "This notebook focuses on predicting sneaker resale prices using machine learning techniques. The goal is to build a predictive model that can assist sneaker resellers in determining optimal pricing strategies."
   ]
  },
  {
   "cell_type": "code",
   "execution_count": 1,
   "id": "59c00bf2-c3f7-46b2-bdad-5cc3467cc3ef",
   "metadata": {
    "tags": []
   },
   "outputs": [],
   "source": [
    "import pandas as pd\n",
    "import numpy as np\n",
    "import matplotlib.pyplot as plt\n",
    "import seaborn as sns\n",
    "import datetime as dt"
   ]
  },
  {
   "cell_type": "markdown",
   "id": "7522d8d7",
   "metadata": {},
   "source": [
    "## Data Cleaning"
   ]
  },
  {
   "cell_type": "code",
   "execution_count": 2,
   "id": "0bcc31e0-3b5d-405f-a0c3-41d08608a8f0",
   "metadata": {
    "tags": []
   },
   "outputs": [
    {
     "data": {
      "text/html": [
       "<div>\n",
       "<style scoped>\n",
       "    .dataframe tbody tr th:only-of-type {\n",
       "        vertical-align: middle;\n",
       "    }\n",
       "\n",
       "    .dataframe tbody tr th {\n",
       "        vertical-align: top;\n",
       "    }\n",
       "\n",
       "    .dataframe thead th {\n",
       "        text-align: right;\n",
       "    }\n",
       "</style>\n",
       "<table border=\"1\" class=\"dataframe\">\n",
       "  <thead>\n",
       "    <tr style=\"text-align: right;\">\n",
       "      <th></th>\n",
       "      <th>Order Date</th>\n",
       "      <th>Brand</th>\n",
       "      <th>Sneaker Name</th>\n",
       "      <th>Sale Price</th>\n",
       "      <th>Retail Price</th>\n",
       "      <th>Release Date</th>\n",
       "      <th>Shoe Size</th>\n",
       "      <th>Buyer Region</th>\n",
       "    </tr>\n",
       "  </thead>\n",
       "  <tbody>\n",
       "    <tr>\n",
       "      <th>0</th>\n",
       "      <td>9/1/17</td>\n",
       "      <td>Yeezy</td>\n",
       "      <td>Adidas-Yeezy-Boost-350-Low-V2-Beluga</td>\n",
       "      <td>$1,097</td>\n",
       "      <td>$220</td>\n",
       "      <td>9/24/16</td>\n",
       "      <td>11.0</td>\n",
       "      <td>California</td>\n",
       "    </tr>\n",
       "    <tr>\n",
       "      <th>1</th>\n",
       "      <td>9/1/17</td>\n",
       "      <td>Yeezy</td>\n",
       "      <td>Adidas-Yeezy-Boost-350-V2-Core-Black-Copper</td>\n",
       "      <td>$685</td>\n",
       "      <td>$220</td>\n",
       "      <td>11/23/16</td>\n",
       "      <td>11.0</td>\n",
       "      <td>California</td>\n",
       "    </tr>\n",
       "    <tr>\n",
       "      <th>2</th>\n",
       "      <td>9/1/17</td>\n",
       "      <td>Yeezy</td>\n",
       "      <td>Adidas-Yeezy-Boost-350-V2-Core-Black-Green</td>\n",
       "      <td>$690</td>\n",
       "      <td>$220</td>\n",
       "      <td>11/23/16</td>\n",
       "      <td>11.0</td>\n",
       "      <td>California</td>\n",
       "    </tr>\n",
       "    <tr>\n",
       "      <th>3</th>\n",
       "      <td>9/1/17</td>\n",
       "      <td>Yeezy</td>\n",
       "      <td>Adidas-Yeezy-Boost-350-V2-Core-Black-Red</td>\n",
       "      <td>$1,075</td>\n",
       "      <td>$220</td>\n",
       "      <td>11/23/16</td>\n",
       "      <td>11.5</td>\n",
       "      <td>Kentucky</td>\n",
       "    </tr>\n",
       "    <tr>\n",
       "      <th>4</th>\n",
       "      <td>9/1/17</td>\n",
       "      <td>Yeezy</td>\n",
       "      <td>Adidas-Yeezy-Boost-350-V2-Core-Black-Red-2017</td>\n",
       "      <td>$828</td>\n",
       "      <td>$220</td>\n",
       "      <td>2/11/17</td>\n",
       "      <td>11.0</td>\n",
       "      <td>Rhode Island</td>\n",
       "    </tr>\n",
       "  </tbody>\n",
       "</table>\n",
       "</div>"
      ],
      "text/plain": [
       "  Order Date   Brand                                   Sneaker Name  \\\n",
       "0     9/1/17   Yeezy           Adidas-Yeezy-Boost-350-Low-V2-Beluga   \n",
       "1     9/1/17   Yeezy    Adidas-Yeezy-Boost-350-V2-Core-Black-Copper   \n",
       "2     9/1/17   Yeezy     Adidas-Yeezy-Boost-350-V2-Core-Black-Green   \n",
       "3     9/1/17   Yeezy       Adidas-Yeezy-Boost-350-V2-Core-Black-Red   \n",
       "4     9/1/17   Yeezy  Adidas-Yeezy-Boost-350-V2-Core-Black-Red-2017   \n",
       "\n",
       "  Sale Price Retail Price Release Date  Shoe Size  Buyer Region  \n",
       "0     $1,097         $220      9/24/16       11.0    California  \n",
       "1       $685         $220     11/23/16       11.0    California  \n",
       "2       $690         $220     11/23/16       11.0    California  \n",
       "3     $1,075         $220     11/23/16       11.5      Kentucky  \n",
       "4       $828         $220      2/11/17       11.0  Rhode Island  "
      ]
     },
     "execution_count": 2,
     "metadata": {},
     "output_type": "execute_result"
    }
   ],
   "source": [
    "df = pd.read_csv(\"StockX-Data-Contest-2019.csv\")\n",
    "df.head()"
   ]
  },
  {
   "cell_type": "code",
   "execution_count": 3,
   "id": "62a052dd-6e5d-401e-9262-2ac9fc07d069",
   "metadata": {
    "tags": []
   },
   "outputs": [
    {
     "data": {
      "text/html": [
       "<div>\n",
       "<style scoped>\n",
       "    .dataframe tbody tr th:only-of-type {\n",
       "        vertical-align: middle;\n",
       "    }\n",
       "\n",
       "    .dataframe tbody tr th {\n",
       "        vertical-align: top;\n",
       "    }\n",
       "\n",
       "    .dataframe thead th {\n",
       "        text-align: right;\n",
       "    }\n",
       "</style>\n",
       "<table border=\"1\" class=\"dataframe\">\n",
       "  <thead>\n",
       "    <tr style=\"text-align: right;\">\n",
       "      <th></th>\n",
       "      <th>Order Date</th>\n",
       "      <th>Brand</th>\n",
       "      <th>Sneaker Name</th>\n",
       "      <th>Sale Price</th>\n",
       "      <th>Retail Price</th>\n",
       "      <th>Release Date</th>\n",
       "      <th>Shoe Size</th>\n",
       "      <th>Buyer Region</th>\n",
       "    </tr>\n",
       "  </thead>\n",
       "  <tbody>\n",
       "    <tr>\n",
       "      <th>0</th>\n",
       "      <td>2017-09-01</td>\n",
       "      <td>Yeezy</td>\n",
       "      <td>Adidas-Yeezy-Boost-350-Low-V2-Beluga</td>\n",
       "      <td>$1,097</td>\n",
       "      <td>$220</td>\n",
       "      <td>9/24/16</td>\n",
       "      <td>11.0</td>\n",
       "      <td>California</td>\n",
       "    </tr>\n",
       "    <tr>\n",
       "      <th>1</th>\n",
       "      <td>2017-09-01</td>\n",
       "      <td>Yeezy</td>\n",
       "      <td>Adidas-Yeezy-Boost-350-V2-Core-Black-Copper</td>\n",
       "      <td>$685</td>\n",
       "      <td>$220</td>\n",
       "      <td>11/23/16</td>\n",
       "      <td>11.0</td>\n",
       "      <td>California</td>\n",
       "    </tr>\n",
       "    <tr>\n",
       "      <th>2</th>\n",
       "      <td>2017-09-01</td>\n",
       "      <td>Yeezy</td>\n",
       "      <td>Adidas-Yeezy-Boost-350-V2-Core-Black-Green</td>\n",
       "      <td>$690</td>\n",
       "      <td>$220</td>\n",
       "      <td>11/23/16</td>\n",
       "      <td>11.0</td>\n",
       "      <td>California</td>\n",
       "    </tr>\n",
       "    <tr>\n",
       "      <th>3</th>\n",
       "      <td>2017-09-01</td>\n",
       "      <td>Yeezy</td>\n",
       "      <td>Adidas-Yeezy-Boost-350-V2-Core-Black-Red</td>\n",
       "      <td>$1,075</td>\n",
       "      <td>$220</td>\n",
       "      <td>11/23/16</td>\n",
       "      <td>11.5</td>\n",
       "      <td>Kentucky</td>\n",
       "    </tr>\n",
       "    <tr>\n",
       "      <th>4</th>\n",
       "      <td>2017-09-01</td>\n",
       "      <td>Yeezy</td>\n",
       "      <td>Adidas-Yeezy-Boost-350-V2-Core-Black-Red-2017</td>\n",
       "      <td>$828</td>\n",
       "      <td>$220</td>\n",
       "      <td>2/11/17</td>\n",
       "      <td>11.0</td>\n",
       "      <td>Rhode Island</td>\n",
       "    </tr>\n",
       "  </tbody>\n",
       "</table>\n",
       "</div>"
      ],
      "text/plain": [
       "  Order Date   Brand                                   Sneaker Name  \\\n",
       "0 2017-09-01   Yeezy           Adidas-Yeezy-Boost-350-Low-V2-Beluga   \n",
       "1 2017-09-01   Yeezy    Adidas-Yeezy-Boost-350-V2-Core-Black-Copper   \n",
       "2 2017-09-01   Yeezy     Adidas-Yeezy-Boost-350-V2-Core-Black-Green   \n",
       "3 2017-09-01   Yeezy       Adidas-Yeezy-Boost-350-V2-Core-Black-Red   \n",
       "4 2017-09-01   Yeezy  Adidas-Yeezy-Boost-350-V2-Core-Black-Red-2017   \n",
       "\n",
       "  Sale Price Retail Price Release Date  Shoe Size  Buyer Region  \n",
       "0     $1,097         $220      9/24/16       11.0    California  \n",
       "1       $685         $220     11/23/16       11.0    California  \n",
       "2       $690         $220     11/23/16       11.0    California  \n",
       "3     $1,075         $220     11/23/16       11.5      Kentucky  \n",
       "4       $828         $220      2/11/17       11.0  Rhode Island  "
      ]
     },
     "execution_count": 3,
     "metadata": {},
     "output_type": "execute_result"
    }
   ],
   "source": [
    "df['Order Date'] = pd.to_datetime(df['Order Date'], format='%m/%d/%y')\n",
    "df.head()"
   ]
  },
  {
   "cell_type": "code",
   "execution_count": 4,
   "id": "c418bb90-9802-49d0-99c2-21a653bdf71b",
   "metadata": {
    "tags": []
   },
   "outputs": [
    {
     "data": {
      "text/html": [
       "<div>\n",
       "<style scoped>\n",
       "    .dataframe tbody tr th:only-of-type {\n",
       "        vertical-align: middle;\n",
       "    }\n",
       "\n",
       "    .dataframe tbody tr th {\n",
       "        vertical-align: top;\n",
       "    }\n",
       "\n",
       "    .dataframe thead th {\n",
       "        text-align: right;\n",
       "    }\n",
       "</style>\n",
       "<table border=\"1\" class=\"dataframe\">\n",
       "  <thead>\n",
       "    <tr style=\"text-align: right;\">\n",
       "      <th></th>\n",
       "      <th>Order Date</th>\n",
       "      <th>Brand</th>\n",
       "      <th>Sneaker Name</th>\n",
       "      <th>Sale Price</th>\n",
       "      <th>Retail Price</th>\n",
       "      <th>Release Date</th>\n",
       "      <th>Shoe Size</th>\n",
       "      <th>Buyer Region</th>\n",
       "    </tr>\n",
       "  </thead>\n",
       "  <tbody>\n",
       "    <tr>\n",
       "      <th>0</th>\n",
       "      <td>2017-09-01</td>\n",
       "      <td>Yeezy</td>\n",
       "      <td>Adidas-Yeezy-Boost-350-Low-V2-Beluga</td>\n",
       "      <td>$1,097</td>\n",
       "      <td>$220</td>\n",
       "      <td>2016-09-24</td>\n",
       "      <td>11.0</td>\n",
       "      <td>California</td>\n",
       "    </tr>\n",
       "    <tr>\n",
       "      <th>1</th>\n",
       "      <td>2017-09-01</td>\n",
       "      <td>Yeezy</td>\n",
       "      <td>Adidas-Yeezy-Boost-350-V2-Core-Black-Copper</td>\n",
       "      <td>$685</td>\n",
       "      <td>$220</td>\n",
       "      <td>2016-11-23</td>\n",
       "      <td>11.0</td>\n",
       "      <td>California</td>\n",
       "    </tr>\n",
       "    <tr>\n",
       "      <th>2</th>\n",
       "      <td>2017-09-01</td>\n",
       "      <td>Yeezy</td>\n",
       "      <td>Adidas-Yeezy-Boost-350-V2-Core-Black-Green</td>\n",
       "      <td>$690</td>\n",
       "      <td>$220</td>\n",
       "      <td>2016-11-23</td>\n",
       "      <td>11.0</td>\n",
       "      <td>California</td>\n",
       "    </tr>\n",
       "    <tr>\n",
       "      <th>3</th>\n",
       "      <td>2017-09-01</td>\n",
       "      <td>Yeezy</td>\n",
       "      <td>Adidas-Yeezy-Boost-350-V2-Core-Black-Red</td>\n",
       "      <td>$1,075</td>\n",
       "      <td>$220</td>\n",
       "      <td>2016-11-23</td>\n",
       "      <td>11.5</td>\n",
       "      <td>Kentucky</td>\n",
       "    </tr>\n",
       "    <tr>\n",
       "      <th>4</th>\n",
       "      <td>2017-09-01</td>\n",
       "      <td>Yeezy</td>\n",
       "      <td>Adidas-Yeezy-Boost-350-V2-Core-Black-Red-2017</td>\n",
       "      <td>$828</td>\n",
       "      <td>$220</td>\n",
       "      <td>2017-02-11</td>\n",
       "      <td>11.0</td>\n",
       "      <td>Rhode Island</td>\n",
       "    </tr>\n",
       "  </tbody>\n",
       "</table>\n",
       "</div>"
      ],
      "text/plain": [
       "  Order Date   Brand                                   Sneaker Name  \\\n",
       "0 2017-09-01   Yeezy           Adidas-Yeezy-Boost-350-Low-V2-Beluga   \n",
       "1 2017-09-01   Yeezy    Adidas-Yeezy-Boost-350-V2-Core-Black-Copper   \n",
       "2 2017-09-01   Yeezy     Adidas-Yeezy-Boost-350-V2-Core-Black-Green   \n",
       "3 2017-09-01   Yeezy       Adidas-Yeezy-Boost-350-V2-Core-Black-Red   \n",
       "4 2017-09-01   Yeezy  Adidas-Yeezy-Boost-350-V2-Core-Black-Red-2017   \n",
       "\n",
       "  Sale Price Retail Price Release Date  Shoe Size  Buyer Region  \n",
       "0     $1,097         $220   2016-09-24       11.0    California  \n",
       "1       $685         $220   2016-11-23       11.0    California  \n",
       "2       $690         $220   2016-11-23       11.0    California  \n",
       "3     $1,075         $220   2016-11-23       11.5      Kentucky  \n",
       "4       $828         $220   2017-02-11       11.0  Rhode Island  "
      ]
     },
     "execution_count": 4,
     "metadata": {},
     "output_type": "execute_result"
    }
   ],
   "source": [
    "df['Release Date'] = pd.to_datetime(df['Release Date'], format='%m/%d/%y')\n",
    "df.head()"
   ]
  },
  {
   "cell_type": "code",
   "execution_count": 5,
   "id": "210111fc-ff3c-4234-820a-d9e99abfcc04",
   "metadata": {
    "tags": []
   },
   "outputs": [
    {
     "data": {
      "text/html": [
       "<div>\n",
       "<style scoped>\n",
       "    .dataframe tbody tr th:only-of-type {\n",
       "        vertical-align: middle;\n",
       "    }\n",
       "\n",
       "    .dataframe tbody tr th {\n",
       "        vertical-align: top;\n",
       "    }\n",
       "\n",
       "    .dataframe thead th {\n",
       "        text-align: right;\n",
       "    }\n",
       "</style>\n",
       "<table border=\"1\" class=\"dataframe\">\n",
       "  <thead>\n",
       "    <tr style=\"text-align: right;\">\n",
       "      <th></th>\n",
       "      <th>Order Date</th>\n",
       "      <th>Brand</th>\n",
       "      <th>Sneaker Name</th>\n",
       "      <th>Sale Price</th>\n",
       "      <th>Retail Price</th>\n",
       "      <th>Release Date</th>\n",
       "      <th>Shoe Size</th>\n",
       "      <th>Buyer Region</th>\n",
       "    </tr>\n",
       "  </thead>\n",
       "  <tbody>\n",
       "    <tr>\n",
       "      <th>0</th>\n",
       "      <td>2017-09-01</td>\n",
       "      <td>Yeezy</td>\n",
       "      <td>Adidas Yeezy Boost 350 Low V2 Beluga</td>\n",
       "      <td>$1,097</td>\n",
       "      <td>$220</td>\n",
       "      <td>2016-09-24</td>\n",
       "      <td>11.0</td>\n",
       "      <td>California</td>\n",
       "    </tr>\n",
       "    <tr>\n",
       "      <th>1</th>\n",
       "      <td>2017-09-01</td>\n",
       "      <td>Yeezy</td>\n",
       "      <td>Adidas Yeezy Boost 350 V2 Core Black Copper</td>\n",
       "      <td>$685</td>\n",
       "      <td>$220</td>\n",
       "      <td>2016-11-23</td>\n",
       "      <td>11.0</td>\n",
       "      <td>California</td>\n",
       "    </tr>\n",
       "    <tr>\n",
       "      <th>2</th>\n",
       "      <td>2017-09-01</td>\n",
       "      <td>Yeezy</td>\n",
       "      <td>Adidas Yeezy Boost 350 V2 Core Black Green</td>\n",
       "      <td>$690</td>\n",
       "      <td>$220</td>\n",
       "      <td>2016-11-23</td>\n",
       "      <td>11.0</td>\n",
       "      <td>California</td>\n",
       "    </tr>\n",
       "    <tr>\n",
       "      <th>3</th>\n",
       "      <td>2017-09-01</td>\n",
       "      <td>Yeezy</td>\n",
       "      <td>Adidas Yeezy Boost 350 V2 Core Black Red</td>\n",
       "      <td>$1,075</td>\n",
       "      <td>$220</td>\n",
       "      <td>2016-11-23</td>\n",
       "      <td>11.5</td>\n",
       "      <td>Kentucky</td>\n",
       "    </tr>\n",
       "    <tr>\n",
       "      <th>4</th>\n",
       "      <td>2017-09-01</td>\n",
       "      <td>Yeezy</td>\n",
       "      <td>Adidas Yeezy Boost 350 V2 Core Black Red 2017</td>\n",
       "      <td>$828</td>\n",
       "      <td>$220</td>\n",
       "      <td>2017-02-11</td>\n",
       "      <td>11.0</td>\n",
       "      <td>Rhode Island</td>\n",
       "    </tr>\n",
       "  </tbody>\n",
       "</table>\n",
       "</div>"
      ],
      "text/plain": [
       "  Order Date   Brand                                   Sneaker Name  \\\n",
       "0 2017-09-01   Yeezy           Adidas Yeezy Boost 350 Low V2 Beluga   \n",
       "1 2017-09-01   Yeezy    Adidas Yeezy Boost 350 V2 Core Black Copper   \n",
       "2 2017-09-01   Yeezy     Adidas Yeezy Boost 350 V2 Core Black Green   \n",
       "3 2017-09-01   Yeezy       Adidas Yeezy Boost 350 V2 Core Black Red   \n",
       "4 2017-09-01   Yeezy  Adidas Yeezy Boost 350 V2 Core Black Red 2017   \n",
       "\n",
       "  Sale Price Retail Price Release Date  Shoe Size  Buyer Region  \n",
       "0     $1,097         $220   2016-09-24       11.0    California  \n",
       "1       $685         $220   2016-11-23       11.0    California  \n",
       "2       $690         $220   2016-11-23       11.0    California  \n",
       "3     $1,075         $220   2016-11-23       11.5      Kentucky  \n",
       "4       $828         $220   2017-02-11       11.0  Rhode Island  "
      ]
     },
     "execution_count": 5,
     "metadata": {},
     "output_type": "execute_result"
    }
   ],
   "source": [
    "df['Sneaker Name'] = df['Sneaker Name'].apply(lambda x: x.replace('-', ' '))\n",
    "df.head()"
   ]
  },
  {
   "cell_type": "code",
   "execution_count": 6,
   "id": "74659e85-06d4-439f-b06b-2f8c5f29df9e",
   "metadata": {
    "tags": []
   },
   "outputs": [
    {
     "data": {
      "text/html": [
       "<div>\n",
       "<style scoped>\n",
       "    .dataframe tbody tr th:only-of-type {\n",
       "        vertical-align: middle;\n",
       "    }\n",
       "\n",
       "    .dataframe tbody tr th {\n",
       "        vertical-align: top;\n",
       "    }\n",
       "\n",
       "    .dataframe thead th {\n",
       "        text-align: right;\n",
       "    }\n",
       "</style>\n",
       "<table border=\"1\" class=\"dataframe\">\n",
       "  <thead>\n",
       "    <tr style=\"text-align: right;\">\n",
       "      <th></th>\n",
       "      <th>Order Date</th>\n",
       "      <th>Brand</th>\n",
       "      <th>Sneaker Name</th>\n",
       "      <th>Sale Price</th>\n",
       "      <th>Retail Price</th>\n",
       "      <th>Release Date</th>\n",
       "      <th>Shoe Size</th>\n",
       "      <th>Buyer Region</th>\n",
       "    </tr>\n",
       "  </thead>\n",
       "  <tbody>\n",
       "    <tr>\n",
       "      <th>0</th>\n",
       "      <td>2017-09-01</td>\n",
       "      <td>Yeezy</td>\n",
       "      <td>Adidas Yeezy Boost 350 Low V2 Beluga</td>\n",
       "      <td>1097</td>\n",
       "      <td>220</td>\n",
       "      <td>2016-09-24</td>\n",
       "      <td>11.0</td>\n",
       "      <td>California</td>\n",
       "    </tr>\n",
       "    <tr>\n",
       "      <th>1</th>\n",
       "      <td>2017-09-01</td>\n",
       "      <td>Yeezy</td>\n",
       "      <td>Adidas Yeezy Boost 350 V2 Core Black Copper</td>\n",
       "      <td>685</td>\n",
       "      <td>220</td>\n",
       "      <td>2016-11-23</td>\n",
       "      <td>11.0</td>\n",
       "      <td>California</td>\n",
       "    </tr>\n",
       "    <tr>\n",
       "      <th>2</th>\n",
       "      <td>2017-09-01</td>\n",
       "      <td>Yeezy</td>\n",
       "      <td>Adidas Yeezy Boost 350 V2 Core Black Green</td>\n",
       "      <td>690</td>\n",
       "      <td>220</td>\n",
       "      <td>2016-11-23</td>\n",
       "      <td>11.0</td>\n",
       "      <td>California</td>\n",
       "    </tr>\n",
       "    <tr>\n",
       "      <th>3</th>\n",
       "      <td>2017-09-01</td>\n",
       "      <td>Yeezy</td>\n",
       "      <td>Adidas Yeezy Boost 350 V2 Core Black Red</td>\n",
       "      <td>1075</td>\n",
       "      <td>220</td>\n",
       "      <td>2016-11-23</td>\n",
       "      <td>11.5</td>\n",
       "      <td>Kentucky</td>\n",
       "    </tr>\n",
       "    <tr>\n",
       "      <th>4</th>\n",
       "      <td>2017-09-01</td>\n",
       "      <td>Yeezy</td>\n",
       "      <td>Adidas Yeezy Boost 350 V2 Core Black Red 2017</td>\n",
       "      <td>828</td>\n",
       "      <td>220</td>\n",
       "      <td>2017-02-11</td>\n",
       "      <td>11.0</td>\n",
       "      <td>Rhode Island</td>\n",
       "    </tr>\n",
       "  </tbody>\n",
       "</table>\n",
       "</div>"
      ],
      "text/plain": [
       "  Order Date   Brand                                   Sneaker Name  \\\n",
       "0 2017-09-01   Yeezy           Adidas Yeezy Boost 350 Low V2 Beluga   \n",
       "1 2017-09-01   Yeezy    Adidas Yeezy Boost 350 V2 Core Black Copper   \n",
       "2 2017-09-01   Yeezy     Adidas Yeezy Boost 350 V2 Core Black Green   \n",
       "3 2017-09-01   Yeezy       Adidas Yeezy Boost 350 V2 Core Black Red   \n",
       "4 2017-09-01   Yeezy  Adidas Yeezy Boost 350 V2 Core Black Red 2017   \n",
       "\n",
       "  Sale Price Retail Price Release Date  Shoe Size  Buyer Region  \n",
       "0       1097          220   2016-09-24       11.0    California  \n",
       "1        685          220   2016-11-23       11.0    California  \n",
       "2        690          220   2016-11-23       11.0    California  \n",
       "3       1075          220   2016-11-23       11.5      Kentucky  \n",
       "4        828          220   2017-02-11       11.0  Rhode Island  "
      ]
     },
     "execution_count": 6,
     "metadata": {},
     "output_type": "execute_result"
    }
   ],
   "source": [
    "df['Sale Price'] = df['Sale Price'].apply(lambda x: x.replace('$', ''))\n",
    "df['Sale Price'] = df['Sale Price'].apply(lambda x: x.replace(',',''))\n",
    "df['Retail Price'] = df['Retail Price'].apply(lambda x: x.replace('$', ''))\n",
    "df['Retail Price'] = df['Retail Price'].apply(lambda x: x.replace(',', ''))\n",
    "df.head()"
   ]
  },
  {
   "cell_type": "markdown",
   "id": "72eaffd2",
   "metadata": {},
   "source": [
    "## Data Exploration\n",
    "In this section, we explore the dataset to understand its structure, identify patterns, and perform necessary preprocessing steps such as handling missing values and encoding categorical variables."
   ]
  },
  {
   "cell_type": "code",
   "execution_count": 7,
   "id": "5c28237f-e36d-4478-886a-a07b22a0545c",
   "metadata": {
    "tags": []
   },
   "outputs": [
    {
     "data": {
      "text/plain": [
       "(99956, 8)"
      ]
     },
     "execution_count": 7,
     "metadata": {},
     "output_type": "execute_result"
    }
   ],
   "source": [
    "df.shape"
   ]
  },
  {
   "cell_type": "code",
   "execution_count": 8,
   "id": "38e23727-4503-4630-9aac-807d2482ba0a",
   "metadata": {
    "tags": []
   },
   "outputs": [
    {
     "data": {
      "text/plain": [
       "<bound method DataFrame.info of       Order Date   Brand                                   Sneaker Name  \\\n",
       "0     2017-09-01   Yeezy           Adidas Yeezy Boost 350 Low V2 Beluga   \n",
       "1     2017-09-01   Yeezy    Adidas Yeezy Boost 350 V2 Core Black Copper   \n",
       "2     2017-09-01   Yeezy     Adidas Yeezy Boost 350 V2 Core Black Green   \n",
       "3     2017-09-01   Yeezy       Adidas Yeezy Boost 350 V2 Core Black Red   \n",
       "4     2017-09-01   Yeezy  Adidas Yeezy Boost 350 V2 Core Black Red 2017   \n",
       "...          ...     ...                                            ...   \n",
       "99951 2019-02-13   Yeezy    adidas Yeezy Boost 350 V2 Static Reflective   \n",
       "99952 2019-02-13   Yeezy    adidas Yeezy Boost 350 V2 Static Reflective   \n",
       "99953 2019-02-13   Yeezy    adidas Yeezy Boost 350 V2 Static Reflective   \n",
       "99954 2019-02-13   Yeezy    adidas Yeezy Boost 350 V2 Static Reflective   \n",
       "99955 2019-02-13   Yeezy    adidas Yeezy Boost 350 V2 Static Reflective   \n",
       "\n",
       "      Sale Price Retail Price Release Date  Shoe Size  Buyer Region  \n",
       "0           1097          220   2016-09-24       11.0    California  \n",
       "1            685          220   2016-11-23       11.0    California  \n",
       "2            690          220   2016-11-23       11.0    California  \n",
       "3           1075          220   2016-11-23       11.5      Kentucky  \n",
       "4            828          220   2017-02-11       11.0  Rhode Island  \n",
       "...          ...          ...          ...        ...           ...  \n",
       "99951        565          220   2018-12-26        8.0        Oregon  \n",
       "99952        598          220   2018-12-26        8.5    California  \n",
       "99953        605          220   2018-12-26        5.5      New York  \n",
       "99954        650          220   2018-12-26       11.0    California  \n",
       "99955        640          220   2018-12-26       11.5         Texas  \n",
       "\n",
       "[99956 rows x 8 columns]>"
      ]
     },
     "execution_count": 8,
     "metadata": {},
     "output_type": "execute_result"
    }
   ],
   "source": [
    "df.info"
   ]
  },
  {
   "cell_type": "code",
   "execution_count": 9,
   "id": "ea417151-9a59-4c0e-9f5d-96be631ff9e9",
   "metadata": {
    "tags": []
   },
   "outputs": [
    {
     "data": {
      "text/plain": [
       "Index(['Order Date', 'Brand', 'Sneaker Name', 'Sale Price', 'Retail Price',\n",
       "       'Release Date', 'Shoe Size', 'Buyer Region'],\n",
       "      dtype='object')"
      ]
     },
     "execution_count": 9,
     "metadata": {},
     "output_type": "execute_result"
    }
   ],
   "source": [
    "df.columns"
   ]
  },
  {
   "cell_type": "code",
   "execution_count": 10,
   "id": "148d6e13-c203-4998-8670-c1eb9ebb9b4b",
   "metadata": {
    "tags": []
   },
   "outputs": [],
   "source": [
    "df = df.rename(columns = {\n",
    "    \"Order Date\" : \"Order_Date\",\n",
    "    \"Sneaker Name\" : \"Sneaker_Name\",\n",
    "    \"Sale Price\" : \"Sale_Price\",\n",
    "    \"Retail Price\" : \"Retail_Price\",\n",
    "    \"Release Date\" : \"Release_Date\",\n",
    "    \"Shoe Size\" : \"Shoe_Size\",\n",
    "    \"Buyer Region\" : \"Buyer_Region\"})"
   ]
  },
  {
   "cell_type": "code",
   "execution_count": 11,
   "id": "3b54dff8-b5fa-4fdb-9f60-1da01b2d913f",
   "metadata": {
    "tags": []
   },
   "outputs": [
    {
     "data": {
      "text/plain": [
       "Index(['Order_Date', 'Brand', 'Sneaker_Name', 'Sale_Price', 'Retail_Price',\n",
       "       'Release_Date', 'Shoe_Size', 'Buyer_Region'],\n",
       "      dtype='object')"
      ]
     },
     "execution_count": 11,
     "metadata": {},
     "output_type": "execute_result"
    }
   ],
   "source": [
    "df.columns"
   ]
  },
  {
   "cell_type": "code",
   "execution_count": 12,
   "id": "e33a6ad3-29ba-4dee-9de5-7de0f83c6323",
   "metadata": {
    "tags": []
   },
   "outputs": [
    {
     "data": {
      "text/plain": [
       "Brand\n",
       " Yeezy       72162\n",
       "Off-White    27794\n",
       "Name: count, dtype: int64"
      ]
     },
     "execution_count": 12,
     "metadata": {},
     "output_type": "execute_result"
    }
   ],
   "source": [
    "df['Brand'].value_counts()"
   ]
  },
  {
   "cell_type": "code",
   "execution_count": 13,
   "id": "1ba24ad3-a60a-4deb-84d0-cb4d1f21fec0",
   "metadata": {
    "tags": []
   },
   "outputs": [
    {
     "data": {
      "text/plain": [
       "Shoe_Size\n",
       "10.0    0.110979\n",
       "9.0     0.097103\n",
       "11.0    0.092551\n",
       "10.5    0.087879\n",
       "9.5     0.086888\n",
       "12.0    0.073002\n",
       "8.0     0.053654\n",
       "8.5     0.053023\n",
       "13.0    0.046040\n",
       "11.5    0.045040\n",
       "6.0     0.040148\n",
       "7.0     0.038687\n",
       "5.0     0.035786\n",
       "7.5     0.026652\n",
       "5.5     0.026222\n",
       "4.0     0.022420\n",
       "6.5     0.022200\n",
       "14.0    0.017918\n",
       "4.5     0.013046\n",
       "12.5    0.006283\n",
       "13.5    0.001471\n",
       "15.0    0.001301\n",
       "14.5    0.000840\n",
       "16.0    0.000790\n",
       "17.0    0.000040\n",
       "3.5     0.000040\n",
       "Name: proportion, dtype: float64"
      ]
     },
     "execution_count": 13,
     "metadata": {},
     "output_type": "execute_result"
    }
   ],
   "source": [
    "df['Shoe_Size'].value_counts(normalize=True)"
   ]
  },
  {
   "cell_type": "code",
   "execution_count": 14,
   "id": "1b0be560-c280-4f4b-acfc-da6b821f3e7b",
   "metadata": {
    "tags": []
   },
   "outputs": [
    {
     "data": {
      "text/plain": [
       "Order_Date      datetime64[ns]\n",
       "Brand                   object\n",
       "Sneaker_Name            object\n",
       "Sale_Price              object\n",
       "Retail_Price            object\n",
       "Release_Date    datetime64[ns]\n",
       "Shoe_Size              float64\n",
       "Buyer_Region            object\n",
       "dtype: object"
      ]
     },
     "execution_count": 14,
     "metadata": {},
     "output_type": "execute_result"
    }
   ],
   "source": [
    "df.dtypes"
   ]
  },
  {
   "cell_type": "code",
   "execution_count": 15,
   "id": "a3341ac8-3259-46a4-9832-d5b2ff7c5f85",
   "metadata": {
    "tags": []
   },
   "outputs": [],
   "source": [
    "df['Sale_Price'] = df['Sale_Price'].astype(float)\n",
    "df['Retail_Price'] = df['Retail_Price'].astype(float)"
   ]
  },
  {
   "cell_type": "code",
   "execution_count": 16,
   "id": "54377c7f-a13c-43d1-a83d-167d6522796d",
   "metadata": {
    "tags": []
   },
   "outputs": [],
   "source": [
    "df['Profit'] = df['Sale_Price'] - df['Retail_Price']"
   ]
  },
  {
   "cell_type": "code",
   "execution_count": 17,
   "id": "9f15407d-9bf3-489b-8342-f5a443c2bbdd",
   "metadata": {
    "tags": []
   },
   "outputs": [
    {
     "data": {
      "text/plain": [
       "154.0"
      ]
     },
     "execution_count": 17,
     "metadata": {},
     "output_type": "execute_result"
    }
   ],
   "source": [
    "df.Profit.median()"
   ]
  },
  {
   "cell_type": "code",
   "execution_count": 18,
   "id": "2b91d0b5-1f68-4523-93c9-2f581eeb5016",
   "metadata": {
    "tags": []
   },
   "outputs": [],
   "source": [
    "region_df = df[df['Buyer_Region'] == 'Nebraska']"
   ]
  },
  {
   "cell_type": "code",
   "execution_count": 19,
   "id": "9ad793d7-66ed-4478-879f-7ddadd207fbc",
   "metadata": {
    "tags": []
   },
   "outputs": [
    {
     "data": {
      "text/plain": [
       "100333.0"
      ]
     },
     "execution_count": 19,
     "metadata": {},
     "output_type": "execute_result"
    }
   ],
   "source": [
    "region_df['Sale_Price'].sum()"
   ]
  },
  {
   "cell_type": "code",
   "execution_count": 20,
   "id": "fc28241a-fe18-4230-8bf4-0cac17754386",
   "metadata": {
    "tags": []
   },
   "outputs": [
    {
     "data": {
      "text/html": [
       "<div>\n",
       "<style scoped>\n",
       "    .dataframe tbody tr th:only-of-type {\n",
       "        vertical-align: middle;\n",
       "    }\n",
       "\n",
       "    .dataframe tbody tr th {\n",
       "        vertical-align: top;\n",
       "    }\n",
       "\n",
       "    .dataframe thead th {\n",
       "        text-align: right;\n",
       "    }\n",
       "</style>\n",
       "<table border=\"1\" class=\"dataframe\">\n",
       "  <thead>\n",
       "    <tr style=\"text-align: right;\">\n",
       "      <th></th>\n",
       "      <th>Order_Date</th>\n",
       "      <th>Brand</th>\n",
       "      <th>Sneaker_Name</th>\n",
       "      <th>Sale_Price</th>\n",
       "      <th>Retail_Price</th>\n",
       "      <th>Release_Date</th>\n",
       "      <th>Shoe_Size</th>\n",
       "      <th>Buyer_Region</th>\n",
       "      <th>Profit</th>\n",
       "    </tr>\n",
       "  </thead>\n",
       "  <tbody>\n",
       "    <tr>\n",
       "      <th>7</th>\n",
       "      <td>2017-09-01</td>\n",
       "      <td>Yeezy</td>\n",
       "      <td>Adidas Yeezy Boost 350 V2 Cream White</td>\n",
       "      <td>460.0</td>\n",
       "      <td>220.0</td>\n",
       "      <td>2017-04-29</td>\n",
       "      <td>10.0</td>\n",
       "      <td>New York</td>\n",
       "      <td>240.0</td>\n",
       "    </tr>\n",
       "    <tr>\n",
       "      <th>11</th>\n",
       "      <td>2017-09-01</td>\n",
       "      <td>Yeezy</td>\n",
       "      <td>Adidas Yeezy Boost 350 V2 Cream White</td>\n",
       "      <td>473.0</td>\n",
       "      <td>220.0</td>\n",
       "      <td>2017-04-29</td>\n",
       "      <td>10.0</td>\n",
       "      <td>Texas</td>\n",
       "      <td>253.0</td>\n",
       "    </tr>\n",
       "    <tr>\n",
       "      <th>17</th>\n",
       "      <td>2017-09-01</td>\n",
       "      <td>Yeezy</td>\n",
       "      <td>Adidas Yeezy Boost 350 V2 Zebra</td>\n",
       "      <td>610.0</td>\n",
       "      <td>220.0</td>\n",
       "      <td>2017-02-25</td>\n",
       "      <td>10.0</td>\n",
       "      <td>New Jersey</td>\n",
       "      <td>390.0</td>\n",
       "    </tr>\n",
       "    <tr>\n",
       "      <th>21</th>\n",
       "      <td>2017-09-01</td>\n",
       "      <td>Yeezy</td>\n",
       "      <td>Adidas Yeezy Boost 350 V2 Zebra</td>\n",
       "      <td>586.0</td>\n",
       "      <td>220.0</td>\n",
       "      <td>2017-02-25</td>\n",
       "      <td>9.5</td>\n",
       "      <td>Oregon</td>\n",
       "      <td>366.0</td>\n",
       "    </tr>\n",
       "    <tr>\n",
       "      <th>30</th>\n",
       "      <td>2017-09-02</td>\n",
       "      <td>Yeezy</td>\n",
       "      <td>Adidas Yeezy Boost 350 V2 Cream White</td>\n",
       "      <td>479.0</td>\n",
       "      <td>220.0</td>\n",
       "      <td>2017-04-29</td>\n",
       "      <td>10.0</td>\n",
       "      <td>Delaware</td>\n",
       "      <td>259.0</td>\n",
       "    </tr>\n",
       "    <tr>\n",
       "      <th>...</th>\n",
       "      <td>...</td>\n",
       "      <td>...</td>\n",
       "      <td>...</td>\n",
       "      <td>...</td>\n",
       "      <td>...</td>\n",
       "      <td>...</td>\n",
       "      <td>...</td>\n",
       "      <td>...</td>\n",
       "      <td>...</td>\n",
       "    </tr>\n",
       "    <tr>\n",
       "      <th>99926</th>\n",
       "      <td>2019-02-13</td>\n",
       "      <td>Yeezy</td>\n",
       "      <td>adidas Yeezy Boost 350 V2 Static</td>\n",
       "      <td>330.0</td>\n",
       "      <td>220.0</td>\n",
       "      <td>2018-12-27</td>\n",
       "      <td>10.0</td>\n",
       "      <td>Oregon</td>\n",
       "      <td>110.0</td>\n",
       "    </tr>\n",
       "    <tr>\n",
       "      <th>99933</th>\n",
       "      <td>2019-02-13</td>\n",
       "      <td>Yeezy</td>\n",
       "      <td>adidas Yeezy Boost 350 V2 Static</td>\n",
       "      <td>325.0</td>\n",
       "      <td>220.0</td>\n",
       "      <td>2018-12-27</td>\n",
       "      <td>10.0</td>\n",
       "      <td>Oregon</td>\n",
       "      <td>105.0</td>\n",
       "    </tr>\n",
       "    <tr>\n",
       "      <th>99934</th>\n",
       "      <td>2019-02-13</td>\n",
       "      <td>Yeezy</td>\n",
       "      <td>adidas Yeezy Boost 350 V2 Static</td>\n",
       "      <td>350.0</td>\n",
       "      <td>220.0</td>\n",
       "      <td>2018-12-27</td>\n",
       "      <td>9.5</td>\n",
       "      <td>California</td>\n",
       "      <td>130.0</td>\n",
       "    </tr>\n",
       "    <tr>\n",
       "      <th>99947</th>\n",
       "      <td>2019-02-13</td>\n",
       "      <td>Yeezy</td>\n",
       "      <td>adidas Yeezy Boost 350 V2 Static Reflective</td>\n",
       "      <td>618.0</td>\n",
       "      <td>220.0</td>\n",
       "      <td>2018-12-26</td>\n",
       "      <td>9.5</td>\n",
       "      <td>California</td>\n",
       "      <td>398.0</td>\n",
       "    </tr>\n",
       "    <tr>\n",
       "      <th>99950</th>\n",
       "      <td>2019-02-13</td>\n",
       "      <td>Yeezy</td>\n",
       "      <td>adidas Yeezy Boost 350 V2 Static Reflective</td>\n",
       "      <td>582.0</td>\n",
       "      <td>220.0</td>\n",
       "      <td>2018-12-26</td>\n",
       "      <td>10.0</td>\n",
       "      <td>New Jersey</td>\n",
       "      <td>362.0</td>\n",
       "    </tr>\n",
       "  </tbody>\n",
       "</table>\n",
       "<p>19778 rows × 9 columns</p>\n",
       "</div>"
      ],
      "text/plain": [
       "      Order_Date   Brand                                 Sneaker_Name  \\\n",
       "7     2017-09-01   Yeezy        Adidas Yeezy Boost 350 V2 Cream White   \n",
       "11    2017-09-01   Yeezy        Adidas Yeezy Boost 350 V2 Cream White   \n",
       "17    2017-09-01   Yeezy              Adidas Yeezy Boost 350 V2 Zebra   \n",
       "21    2017-09-01   Yeezy              Adidas Yeezy Boost 350 V2 Zebra   \n",
       "30    2017-09-02   Yeezy        Adidas Yeezy Boost 350 V2 Cream White   \n",
       "...          ...     ...                                          ...   \n",
       "99926 2019-02-13   Yeezy             adidas Yeezy Boost 350 V2 Static   \n",
       "99933 2019-02-13   Yeezy             adidas Yeezy Boost 350 V2 Static   \n",
       "99934 2019-02-13   Yeezy             adidas Yeezy Boost 350 V2 Static   \n",
       "99947 2019-02-13   Yeezy  adidas Yeezy Boost 350 V2 Static Reflective   \n",
       "99950 2019-02-13   Yeezy  adidas Yeezy Boost 350 V2 Static Reflective   \n",
       "\n",
       "       Sale_Price  Retail_Price Release_Date  Shoe_Size Buyer_Region  Profit  \n",
       "7           460.0         220.0   2017-04-29       10.0     New York   240.0  \n",
       "11          473.0         220.0   2017-04-29       10.0        Texas   253.0  \n",
       "17          610.0         220.0   2017-02-25       10.0   New Jersey   390.0  \n",
       "21          586.0         220.0   2017-02-25        9.5       Oregon   366.0  \n",
       "30          479.0         220.0   2017-04-29       10.0     Delaware   259.0  \n",
       "...           ...           ...          ...        ...          ...     ...  \n",
       "99926       330.0         220.0   2018-12-27       10.0       Oregon   110.0  \n",
       "99933       325.0         220.0   2018-12-27       10.0       Oregon   105.0  \n",
       "99934       350.0         220.0   2018-12-27        9.5   California   130.0  \n",
       "99947       618.0         220.0   2018-12-26        9.5   California   398.0  \n",
       "99950       582.0         220.0   2018-12-26       10.0   New Jersey   362.0  \n",
       "\n",
       "[19778 rows x 9 columns]"
      ]
     },
     "execution_count": 20,
     "metadata": {},
     "output_type": "execute_result"
    }
   ],
   "source": [
    "sizes = [9.5, 10]\n",
    "df[df['Shoe_Size'].isin(sizes)]"
   ]
  },
  {
   "cell_type": "code",
   "execution_count": 21,
   "id": "effc3800-4a3b-4d56-b989-015f064e1851",
   "metadata": {
    "tags": []
   },
   "outputs": [
    {
     "data": {
      "text/plain": [
       "<Axes: title={'center': 'Sale Price by Size'}, xlabel='Shoe Size', ylabel='Avg. Sale Price ($)'>"
      ]
     },
     "execution_count": 21,
     "metadata": {},
     "output_type": "execute_result"
    },
    {
     "data": {
      "image/png": "[encoded data removed]",
      "text/plain": [
       "<Figure size 640x480 with 1 Axes>"
      ]
     },
     "metadata": {},
     "output_type": "display_data"
    }
   ],
   "source": [
    "df.groupby('Shoe_Size')['Sale_Price'].mean().plot.bar(xlabel='Shoe Size', ylabel = 'Avg. Sale Price ($)', title = 'Sale Price by Size')"
   ]
  },
  {
   "cell_type": "code",
   "execution_count": 22,
   "id": "81151d6f-a21d-4bd7-87e8-5b2b4c2e091c",
   "metadata": {
    "tags": []
   },
   "outputs": [
    {
     "data": {
      "text/plain": [
       "Sneaker_Name\n",
       "Air Jordan 1 Retro High Off White White              1826.070288\n",
       "Air Jordan 1 Retro High Off White Chicago            1769.800000\n",
       "Adidas Yeezy Boost 350 Low Turtledove                1531.661765\n",
       "Nike Air Presto Off White                            1236.055369\n",
       "Adidas Yeezy Boost 350 Low Oxford Tan                1011.514286\n",
       "Adidas Yeezy Boost 350 Low Moonrock                   996.710000\n",
       "Adidas Yeezy Boost 350 Low Pirate Black 2016          984.237705\n",
       "Nike Air Force 1 Low Virgil Abloh Off White AF100     975.516129\n",
       "Adidas Yeezy Boost 350 V2 Core Black Red              937.754967\n",
       "Adidas Yeezy Boost 350 Low Pirate Black 2015          895.094737\n",
       "Nike Air Max 97 Off White Elemental Rose Queen        893.782407\n",
       "Nike Air VaporMax Off White                           856.676190\n",
       "Air Jordan 1 Retro High Off White University Blue     850.853506\n",
       "Adidas Yeezy Boost 350 V2 Core Black Red 2017         804.304438\n",
       "Adidas Yeezy Boost 350 Low V2 Beluga                  788.704819\n",
       "Nike Blazer Mid Off White Wolf Grey                   784.822917\n",
       "Nike Air Max 97 Off White Menta                       752.673469\n",
       "Nike Air Presto Off White Black 2018                  730.469214\n",
       "Adidas Yeezy Boost 350 V2 Core Black White            718.412238\n",
       "Nike Air Force 1 Low Off White                        717.462185\n",
       "Nike Air Max 90 Off White                             709.923445\n",
       "Nike Blazer Mid Off White                             695.475050\n",
       "Nike Air Max 97 Off White Black                       672.100346\n",
       "Nike Air Max 97 Off White                             664.290441\n",
       "Adidas Yeezy Boost 350 V2 Core Black Copper           656.631111\n",
       "Nike Air Presto Off White White 2018                  634.391397\n",
       "Nike Air VaporMax Off White Black                     628.478294\n",
       "Adidas Yeezy Boost 350 V2 Core Black Green            622.801020\n",
       "Nike Blazer Mid Off White All Hallows Eve             606.179791\n",
       "Nike Air VaporMax Off White 2018                      592.024513\n",
       "Nike Air Max 90 Off White Black                       552.785319\n",
       "Nike Zoom Fly Off White                               534.816092\n",
       "Nike Air Max 90 Off White Desert Ore                  532.542373\n",
       "Nike Blazer Mid Off White Grim Reaper                 528.822604\n",
       "Nike Air Force 1 Low Off White Black White            512.127083\n",
       "Nike React Hyperdunk 2017 Flyknit Off White           494.946281\n",
       "adidas Yeezy Boost 350 V2 Static Reflective           468.145101\n",
       "Adidas Yeezy Boost 350 V2 Beluga 2pt0                 400.439634\n",
       "Nike Air Force 1 Low Off White Volt                   391.237488\n",
       "Adidas Yeezy Boost 350 V2 Semi Frozen Yellow          390.586939\n",
       "Adidas Yeezy Boost 350 V2 Blue Tint                   378.986125\n",
       "Adidas Yeezy Boost 350 V2 Zebra                       361.272206\n",
       "Nike Zoom Fly Mercurial Off White Black               354.133333\n",
       "Nike Zoom Fly Off White Black Silver                  316.691489\n",
       "Adidas Yeezy Boost 350 V2 Cream White                 288.708805\n",
       "Nike Zoom Fly Mercurial Off White Total Orange        287.914634\n",
       "adidas Yeezy Boost 350 V2 Static                      287.066627\n",
       "Nike Zoom Fly Off White Pink                          271.165563\n",
       "adidas Yeezy Boost 350 V2 Butter                      269.760571\n",
       "Adidas Yeezy Boost 350 V2 Sesame                      264.068792\n",
       "Name: Sale_Price, dtype: float64"
      ]
     },
     "execution_count": 22,
     "metadata": {},
     "output_type": "execute_result"
    }
   ],
   "source": [
    "df.groupby('Sneaker_Name')['Sale_Price'].mean().sort_values(ascending=False)"
   ]
  },
  {
   "cell_type": "code",
   "execution_count": 23,
   "id": "0ee3546f-e623-4e7f-8c0a-bac4d41b3ced",
   "metadata": {
    "tags": []
   },
   "outputs": [
    {
     "data": {
      "text/html": [
       "<div>\n",
       "<style scoped>\n",
       "    .dataframe tbody tr th:only-of-type {\n",
       "        vertical-align: middle;\n",
       "    }\n",
       "\n",
       "    .dataframe tbody tr th {\n",
       "        vertical-align: top;\n",
       "    }\n",
       "\n",
       "    .dataframe thead th {\n",
       "        text-align: right;\n",
       "    }\n",
       "</style>\n",
       "<table border=\"1\" class=\"dataframe\">\n",
       "  <thead>\n",
       "    <tr style=\"text-align: right;\">\n",
       "      <th></th>\n",
       "      <th>Order_Date</th>\n",
       "      <th>Brand</th>\n",
       "      <th>Sneaker_Name</th>\n",
       "      <th>Sale_Price</th>\n",
       "      <th>Retail_Price</th>\n",
       "      <th>Release_Date</th>\n",
       "      <th>Shoe_Size</th>\n",
       "      <th>Buyer_Region</th>\n",
       "      <th>Profit</th>\n",
       "    </tr>\n",
       "  </thead>\n",
       "  <tbody>\n",
       "    <tr>\n",
       "      <th>128</th>\n",
       "      <td>2017-09-07</td>\n",
       "      <td>Off-White</td>\n",
       "      <td>Nike Air Max 90 Off White</td>\n",
       "      <td>1600.0</td>\n",
       "      <td>160.0</td>\n",
       "      <td>2017-09-09</td>\n",
       "      <td>8.0</td>\n",
       "      <td>California</td>\n",
       "      <td>1440.0</td>\n",
       "    </tr>\n",
       "    <tr>\n",
       "      <th>129</th>\n",
       "      <td>2017-09-07</td>\n",
       "      <td>Off-White</td>\n",
       "      <td>Nike Air Max 90 Off White</td>\n",
       "      <td>1090.0</td>\n",
       "      <td>160.0</td>\n",
       "      <td>2017-09-09</td>\n",
       "      <td>11.5</td>\n",
       "      <td>New York</td>\n",
       "      <td>930.0</td>\n",
       "    </tr>\n",
       "    <tr>\n",
       "      <th>130</th>\n",
       "      <td>2017-09-07</td>\n",
       "      <td>Off-White</td>\n",
       "      <td>Nike Air Presto Off White</td>\n",
       "      <td>1344.0</td>\n",
       "      <td>160.0</td>\n",
       "      <td>2017-09-09</td>\n",
       "      <td>10.0</td>\n",
       "      <td>New York</td>\n",
       "      <td>1184.0</td>\n",
       "    </tr>\n",
       "    <tr>\n",
       "      <th>131</th>\n",
       "      <td>2017-09-07</td>\n",
       "      <td>Off-White</td>\n",
       "      <td>Nike Air Presto Off White</td>\n",
       "      <td>1325.0</td>\n",
       "      <td>160.0</td>\n",
       "      <td>2017-09-09</td>\n",
       "      <td>10.0</td>\n",
       "      <td>Massachusetts</td>\n",
       "      <td>1165.0</td>\n",
       "    </tr>\n",
       "    <tr>\n",
       "      <th>132</th>\n",
       "      <td>2017-09-07</td>\n",
       "      <td>Off-White</td>\n",
       "      <td>Nike Air VaporMax Off White</td>\n",
       "      <td>1800.0</td>\n",
       "      <td>250.0</td>\n",
       "      <td>2017-09-09</td>\n",
       "      <td>12.0</td>\n",
       "      <td>Kentucky</td>\n",
       "      <td>1550.0</td>\n",
       "    </tr>\n",
       "    <tr>\n",
       "      <th>...</th>\n",
       "      <td>...</td>\n",
       "      <td>...</td>\n",
       "      <td>...</td>\n",
       "      <td>...</td>\n",
       "      <td>...</td>\n",
       "      <td>...</td>\n",
       "      <td>...</td>\n",
       "      <td>...</td>\n",
       "      <td>...</td>\n",
       "    </tr>\n",
       "    <tr>\n",
       "      <th>99869</th>\n",
       "      <td>2019-02-13</td>\n",
       "      <td>Off-White</td>\n",
       "      <td>Nike Zoom Fly Off White Pink</td>\n",
       "      <td>265.0</td>\n",
       "      <td>170.0</td>\n",
       "      <td>2018-11-28</td>\n",
       "      <td>11.0</td>\n",
       "      <td>New York</td>\n",
       "      <td>95.0</td>\n",
       "    </tr>\n",
       "    <tr>\n",
       "      <th>99870</th>\n",
       "      <td>2019-02-13</td>\n",
       "      <td>Off-White</td>\n",
       "      <td>Nike Zoom Fly Off White Pink</td>\n",
       "      <td>331.0</td>\n",
       "      <td>170.0</td>\n",
       "      <td>2018-11-28</td>\n",
       "      <td>4.0</td>\n",
       "      <td>California</td>\n",
       "      <td>161.0</td>\n",
       "    </tr>\n",
       "    <tr>\n",
       "      <th>99871</th>\n",
       "      <td>2019-02-13</td>\n",
       "      <td>Off-White</td>\n",
       "      <td>Nike Zoom Fly Off White Pink</td>\n",
       "      <td>405.0</td>\n",
       "      <td>170.0</td>\n",
       "      <td>2018-11-28</td>\n",
       "      <td>6.0</td>\n",
       "      <td>New York</td>\n",
       "      <td>235.0</td>\n",
       "    </tr>\n",
       "    <tr>\n",
       "      <th>99872</th>\n",
       "      <td>2019-02-13</td>\n",
       "      <td>Off-White</td>\n",
       "      <td>Nike Zoom Fly Off White Pink</td>\n",
       "      <td>263.0</td>\n",
       "      <td>170.0</td>\n",
       "      <td>2018-11-28</td>\n",
       "      <td>10.0</td>\n",
       "      <td>Maryland</td>\n",
       "      <td>93.0</td>\n",
       "    </tr>\n",
       "    <tr>\n",
       "      <th>99873</th>\n",
       "      <td>2019-02-13</td>\n",
       "      <td>Off-White</td>\n",
       "      <td>Nike Zoom Fly Off White Pink</td>\n",
       "      <td>237.0</td>\n",
       "      <td>170.0</td>\n",
       "      <td>2018-11-28</td>\n",
       "      <td>9.0</td>\n",
       "      <td>California</td>\n",
       "      <td>67.0</td>\n",
       "    </tr>\n",
       "  </tbody>\n",
       "</table>\n",
       "<p>27794 rows × 9 columns</p>\n",
       "</div>"
      ],
      "text/plain": [
       "      Order_Date      Brand                  Sneaker_Name  Sale_Price  \\\n",
       "128   2017-09-07  Off-White     Nike Air Max 90 Off White      1600.0   \n",
       "129   2017-09-07  Off-White     Nike Air Max 90 Off White      1090.0   \n",
       "130   2017-09-07  Off-White     Nike Air Presto Off White      1344.0   \n",
       "131   2017-09-07  Off-White     Nike Air Presto Off White      1325.0   \n",
       "132   2017-09-07  Off-White   Nike Air VaporMax Off White      1800.0   \n",
       "...          ...        ...                           ...         ...   \n",
       "99869 2019-02-13  Off-White  Nike Zoom Fly Off White Pink       265.0   \n",
       "99870 2019-02-13  Off-White  Nike Zoom Fly Off White Pink       331.0   \n",
       "99871 2019-02-13  Off-White  Nike Zoom Fly Off White Pink       405.0   \n",
       "99872 2019-02-13  Off-White  Nike Zoom Fly Off White Pink       263.0   \n",
       "99873 2019-02-13  Off-White  Nike Zoom Fly Off White Pink       237.0   \n",
       "\n",
       "       Retail_Price Release_Date  Shoe_Size   Buyer_Region  Profit  \n",
       "128           160.0   2017-09-09        8.0     California  1440.0  \n",
       "129           160.0   2017-09-09       11.5       New York   930.0  \n",
       "130           160.0   2017-09-09       10.0       New York  1184.0  \n",
       "131           160.0   2017-09-09       10.0  Massachusetts  1165.0  \n",
       "132           250.0   2017-09-09       12.0       Kentucky  1550.0  \n",
       "...             ...          ...        ...            ...     ...  \n",
       "99869         170.0   2018-11-28       11.0       New York    95.0  \n",
       "99870         170.0   2018-11-28        4.0     California   161.0  \n",
       "99871         170.0   2018-11-28        6.0       New York   235.0  \n",
       "99872         170.0   2018-11-28       10.0       Maryland    93.0  \n",
       "99873         170.0   2018-11-28        9.0     California    67.0  \n",
       "\n",
       "[27794 rows x 9 columns]"
      ]
     },
     "execution_count": 23,
     "metadata": {},
     "output_type": "execute_result"
    }
   ],
   "source": [
    "df[df['Sneaker_Name'].str.contains('Nike') | df['Sneaker_Name'].str.contains('Jordan')]"
   ]
  },
  {
   "cell_type": "code",
   "execution_count": 24,
   "id": "f10d5fa7-37b1-4efa-a2b5-82ca43ab347f",
   "metadata": {
    "tags": []
   },
   "outputs": [
    {
     "name": "stdout",
     "output_type": "stream",
     "text": [
      "<class 'pandas.core.frame.DataFrame'>\n",
      "RangeIndex: 99956 entries, 0 to 99955\n",
      "Data columns (total 9 columns):\n",
      " #   Column        Non-Null Count  Dtype         \n",
      "---  ------        --------------  -----         \n",
      " 0   Order_Date    99956 non-null  datetime64[ns]\n",
      " 1   Brand         99956 non-null  object        \n",
      " 2   Sneaker_Name  99956 non-null  object        \n",
      " 3   Sale_Price    99956 non-null  float64       \n",
      " 4   Retail_Price  99956 non-null  float64       \n",
      " 5   Release_Date  99956 non-null  datetime64[ns]\n",
      " 6   Shoe_Size     99956 non-null  float64       \n",
      " 7   Buyer_Region  99956 non-null  object        \n",
      " 8   Profit        99956 non-null  float64       \n",
      "dtypes: datetime64[ns](2), float64(4), object(3)\n",
      "memory usage: 6.9+ MB\n"
     ]
    }
   ],
   "source": [
    "df.info()"
   ]
  },
  {
   "cell_type": "code",
   "execution_count": 25,
   "id": "298fa23b-e574-44e4-8c17-cd31ec208de2",
   "metadata": {
    "tags": []
   },
   "outputs": [
    {
     "data": {
      "text/plain": [
       "Order_Date\n",
       "December     22292\n",
       "November     15489\n",
       "January      14511\n",
       "February      7774\n",
       "July          7434\n",
       "October       7307\n",
       "August        6090\n",
       "June          5431\n",
       "September     4671\n",
       "May           3456\n",
       "April         2756\n",
       "March         2745\n",
       "Name: count, dtype: int64"
      ]
     },
     "execution_count": 25,
     "metadata": {},
     "output_type": "execute_result"
    }
   ],
   "source": [
    "df['Order_Date'].dt.month_name().value_counts()"
   ]
  },
  {
   "cell_type": "code",
   "execution_count": 26,
   "id": "3c439781-b3f9-48c8-bcb6-e02b8ac5a72e",
   "metadata": {
    "tags": []
   },
   "outputs": [
    {
     "data": {
      "text/plain": [
       "Order_Date\n",
       "2018-12-31    5068068.0\n",
       "2019-01-31    4029845.0\n",
       "2018-11-30    3785398.0\n",
       "2017-12-31    3211053.0\n",
       "2018-08-31    3162458.0\n",
       "Name: Sale_Price, dtype: float64"
      ]
     },
     "execution_count": 26,
     "metadata": {},
     "output_type": "execute_result"
    }
   ],
   "source": [
    "df.resample('M', on = 'Order_Date')['Sale_Price'].sum().sort_values(ascending=False).head(5)"
   ]
  },
  {
   "cell_type": "code",
   "execution_count": 27,
   "id": "aa43dc6a-3a87-48e3-a037-8a957bf211f1",
   "metadata": {
    "tags": []
   },
   "outputs": [
    {
     "data": {
      "image/png": "[encoded data removed]",
      "text/plain": [
       "<Figure size 640x480 with 1 Axes>"
      ]
     },
     "metadata": {},
     "output_type": "display_data"
    }
   ],
   "source": [
    "df['Month'] = df['Order_Date'].dt.month\n",
    "\n",
    "mean_sale_price_by_month = df.groupby('Month')['Sale_Price'].mean().sort_index()\n",
    "\n",
    "ax = mean_sale_price_by_month.plot.bar()\n",
    "ax.set_xlabel('Month')\n",
    "ax.set_ylabel('Avg. Sale Price ($)')\n",
    "ax.set_title('Average Sale Price by Month')\n",
    "\n",
    "ax.set_xticks(range(12))\n",
    "ax.set_xticklabels(['January', 'February', 'March', 'April', 'May', 'June', 'July', 'August', 'September', 'October', 'November', 'December'], rotation=45)\n",
    "\n",
    "plt.show()\n"
   ]
  },
  {
   "cell_type": "code",
   "execution_count": 28,
   "id": "7281dd5d-08be-4cae-b27a-b417fcc85501",
   "metadata": {
    "tags": []
   },
   "outputs": [
    {
     "data": {
      "image/png": "[encoded data removed]",
      "text/plain": [
       "<Figure size 640x480 with 1 Axes>"
      ]
     },
     "metadata": {},
     "output_type": "display_data"
    }
   ],
   "source": [
    "sale_price_counts = df['Sale_Price'].value_counts().sort_index()\n",
    "\n",
    "ax = sale_price_counts.plot.bar(width=10)\n",
    "\n",
    "ax.set_xlabel('Sale Price ($)')\n",
    "ax.set_ylabel('Count')\n",
    "ax.set_title('Count by Sale Price')\n",
    "ax.set_xticks(range(0, 2001, 500))\n",
    "ax.set_xticklabels(range(0, 2001, 500), rotation=45)\n",
    "\n",
    "plt.show()\n"
   ]
  },
  {
   "cell_type": "code",
   "execution_count": 29,
   "id": "bf346737-4273-4956-b06d-a4225ad3f89c",
   "metadata": {
    "tags": []
   },
   "outputs": [
    {
     "data": {
      "text/html": [
       "<div>\n",
       "<style scoped>\n",
       "    .dataframe tbody tr th:only-of-type {\n",
       "        vertical-align: middle;\n",
       "    }\n",
       "\n",
       "    .dataframe tbody tr th {\n",
       "        vertical-align: top;\n",
       "    }\n",
       "\n",
       "    .dataframe thead th {\n",
       "        text-align: right;\n",
       "    }\n",
       "</style>\n",
       "<table border=\"1\" class=\"dataframe\">\n",
       "  <thead>\n",
       "    <tr style=\"text-align: right;\">\n",
       "      <th></th>\n",
       "      <th>Order_Date</th>\n",
       "      <th>Brand</th>\n",
       "      <th>Sneaker_Name</th>\n",
       "      <th>Sale_Price</th>\n",
       "      <th>Retail_Price</th>\n",
       "      <th>Release_Date</th>\n",
       "      <th>Shoe_Size</th>\n",
       "      <th>Buyer_Region</th>\n",
       "      <th>Profit</th>\n",
       "      <th>Month</th>\n",
       "      <th>Bought for Less than Retail</th>\n",
       "      <th>Bought for Retail</th>\n",
       "      <th>Bought for More than Retail</th>\n",
       "    </tr>\n",
       "  </thead>\n",
       "  <tbody>\n",
       "    <tr>\n",
       "      <th>0</th>\n",
       "      <td>2017-09-01</td>\n",
       "      <td>Yeezy</td>\n",
       "      <td>Adidas Yeezy Boost 350 Low V2 Beluga</td>\n",
       "      <td>1097.0</td>\n",
       "      <td>220.0</td>\n",
       "      <td>2016-09-24</td>\n",
       "      <td>11.0</td>\n",
       "      <td>California</td>\n",
       "      <td>877.0</td>\n",
       "      <td>9</td>\n",
       "      <td>False</td>\n",
       "      <td>False</td>\n",
       "      <td>True</td>\n",
       "    </tr>\n",
       "    <tr>\n",
       "      <th>1</th>\n",
       "      <td>2017-09-01</td>\n",
       "      <td>Yeezy</td>\n",
       "      <td>Adidas Yeezy Boost 350 V2 Core Black Copper</td>\n",
       "      <td>685.0</td>\n",
       "      <td>220.0</td>\n",
       "      <td>2016-11-23</td>\n",
       "      <td>11.0</td>\n",
       "      <td>California</td>\n",
       "      <td>465.0</td>\n",
       "      <td>9</td>\n",
       "      <td>False</td>\n",
       "      <td>False</td>\n",
       "      <td>True</td>\n",
       "    </tr>\n",
       "    <tr>\n",
       "      <th>2</th>\n",
       "      <td>2017-09-01</td>\n",
       "      <td>Yeezy</td>\n",
       "      <td>Adidas Yeezy Boost 350 V2 Core Black Green</td>\n",
       "      <td>690.0</td>\n",
       "      <td>220.0</td>\n",
       "      <td>2016-11-23</td>\n",
       "      <td>11.0</td>\n",
       "      <td>California</td>\n",
       "      <td>470.0</td>\n",
       "      <td>9</td>\n",
       "      <td>False</td>\n",
       "      <td>False</td>\n",
       "      <td>True</td>\n",
       "    </tr>\n",
       "    <tr>\n",
       "      <th>3</th>\n",
       "      <td>2017-09-01</td>\n",
       "      <td>Yeezy</td>\n",
       "      <td>Adidas Yeezy Boost 350 V2 Core Black Red</td>\n",
       "      <td>1075.0</td>\n",
       "      <td>220.0</td>\n",
       "      <td>2016-11-23</td>\n",
       "      <td>11.5</td>\n",
       "      <td>Kentucky</td>\n",
       "      <td>855.0</td>\n",
       "      <td>9</td>\n",
       "      <td>False</td>\n",
       "      <td>False</td>\n",
       "      <td>True</td>\n",
       "    </tr>\n",
       "    <tr>\n",
       "      <th>4</th>\n",
       "      <td>2017-09-01</td>\n",
       "      <td>Yeezy</td>\n",
       "      <td>Adidas Yeezy Boost 350 V2 Core Black Red 2017</td>\n",
       "      <td>828.0</td>\n",
       "      <td>220.0</td>\n",
       "      <td>2017-02-11</td>\n",
       "      <td>11.0</td>\n",
       "      <td>Rhode Island</td>\n",
       "      <td>608.0</td>\n",
       "      <td>9</td>\n",
       "      <td>False</td>\n",
       "      <td>False</td>\n",
       "      <td>True</td>\n",
       "    </tr>\n",
       "  </tbody>\n",
       "</table>\n",
       "</div>"
      ],
      "text/plain": [
       "  Order_Date   Brand                                   Sneaker_Name  \\\n",
       "0 2017-09-01   Yeezy           Adidas Yeezy Boost 350 Low V2 Beluga   \n",
       "1 2017-09-01   Yeezy    Adidas Yeezy Boost 350 V2 Core Black Copper   \n",
       "2 2017-09-01   Yeezy     Adidas Yeezy Boost 350 V2 Core Black Green   \n",
       "3 2017-09-01   Yeezy       Adidas Yeezy Boost 350 V2 Core Black Red   \n",
       "4 2017-09-01   Yeezy  Adidas Yeezy Boost 350 V2 Core Black Red 2017   \n",
       "\n",
       "   Sale_Price  Retail_Price Release_Date  Shoe_Size  Buyer_Region  Profit  \\\n",
       "0      1097.0         220.0   2016-09-24       11.0    California   877.0   \n",
       "1       685.0         220.0   2016-11-23       11.0    California   465.0   \n",
       "2       690.0         220.0   2016-11-23       11.0    California   470.0   \n",
       "3      1075.0         220.0   2016-11-23       11.5      Kentucky   855.0   \n",
       "4       828.0         220.0   2017-02-11       11.0  Rhode Island   608.0   \n",
       "\n",
       "   Month  Bought for Less than Retail  Bought for Retail  \\\n",
       "0      9                        False              False   \n",
       "1      9                        False              False   \n",
       "2      9                        False              False   \n",
       "3      9                        False              False   \n",
       "4      9                        False              False   \n",
       "\n",
       "   Bought for More than Retail  \n",
       "0                         True  \n",
       "1                         True  \n",
       "2                         True  \n",
       "3                         True  \n",
       "4                         True  "
      ]
     },
     "execution_count": 29,
     "metadata": {},
     "output_type": "execute_result"
    }
   ],
   "source": [
    "df['Bought for Less than Retail'] = df['Sale_Price'] < df['Retail_Price']\n",
    "df['Bought for Retail'] = df['Sale_Price'] == df['Retail_Price']\n",
    "df['Bought for More than Retail'] = df['Sale_Price'] > df['Retail_Price']\n",
    "df.head()"
   ]
  },
  {
   "cell_type": "code",
   "execution_count": 30,
   "id": "af88845e-2c9e-47a0-8124-9cd39413643c",
   "metadata": {
    "tags": []
   },
   "outputs": [
    {
     "data": {
      "image/png": "[encoded data removed]",
      "text/plain": [
       "<Figure size 640x480 with 1 Axes>"
      ]
     },
     "metadata": {},
     "output_type": "display_data"
    },
    {
     "data": {
      "image/png": "[encoded data removed]",
      "text/plain": [
       "<Figure size 640x480 with 1 Axes>"
      ]
     },
     "metadata": {},
     "output_type": "display_data"
    },
    {
     "data": {
      "image/png": "[encoded data removed]",
      "text/plain": [
       "<Figure size 640x480 with 1 Axes>"
      ]
     },
     "metadata": {},
     "output_type": "display_data"
    }
   ],
   "source": [
    "def plot_boolean_columns(df):\n",
    "    for column in df.columns:\n",
    "        if df[column].dtype == 'bool':\n",
    "            counts = df[column].value_counts()\n",
    "            sns.barplot(x=counts.index, y=counts.values)\n",
    "            plt.title(f'Distribution of {column}')\n",
    "            plt.xlabel(column)\n",
    "            plt.ylabel('Count')\n",
    "            plt.xticks([0, 1], ['False', 'True'])\n",
    "            plt.show()\n",
    "            \n",
    "plot_boolean_columns(df)"
   ]
  },
  {
   "cell_type": "code",
   "execution_count": 31,
   "id": "52c9ab42-b90d-42e8-89fc-febdefcf7a7e",
   "metadata": {
    "tags": []
   },
   "outputs": [
    {
     "data": {
      "text/html": [
       "<div>\n",
       "<style scoped>\n",
       "    .dataframe tbody tr th:only-of-type {\n",
       "        vertical-align: middle;\n",
       "    }\n",
       "\n",
       "    .dataframe tbody tr th {\n",
       "        vertical-align: top;\n",
       "    }\n",
       "\n",
       "    .dataframe thead th {\n",
       "        text-align: right;\n",
       "    }\n",
       "</style>\n",
       "<table border=\"1\" class=\"dataframe\">\n",
       "  <thead>\n",
       "    <tr style=\"text-align: right;\">\n",
       "      <th></th>\n",
       "      <th>Order_Date</th>\n",
       "      <th>Brand</th>\n",
       "      <th>Sneaker_Name</th>\n",
       "      <th>Sale_Price</th>\n",
       "      <th>Retail_Price</th>\n",
       "      <th>Release_Date</th>\n",
       "      <th>Shoe_Size</th>\n",
       "      <th>Buyer_Region</th>\n",
       "      <th>Profit</th>\n",
       "      <th>Month</th>\n",
       "      <th>Bought for Less than Retail</th>\n",
       "      <th>Bought for Retail</th>\n",
       "      <th>Bought for More than Retail</th>\n",
       "      <th>ROI</th>\n",
       "      <th>Day</th>\n",
       "      <th>Days_Since_Release</th>\n",
       "    </tr>\n",
       "  </thead>\n",
       "  <tbody>\n",
       "    <tr>\n",
       "      <th>0</th>\n",
       "      <td>2017-09-01</td>\n",
       "      <td>Yeezy</td>\n",
       "      <td>Adidas Yeezy Boost 350 Low V2 Beluga</td>\n",
       "      <td>1097.0</td>\n",
       "      <td>220.0</td>\n",
       "      <td>2016-09-24</td>\n",
       "      <td>11.0</td>\n",
       "      <td>California</td>\n",
       "      <td>877.0</td>\n",
       "      <td>9</td>\n",
       "      <td>False</td>\n",
       "      <td>False</td>\n",
       "      <td>True</td>\n",
       "      <td>398.64</td>\n",
       "      <td>4</td>\n",
       "      <td>371</td>\n",
       "    </tr>\n",
       "    <tr>\n",
       "      <th>1</th>\n",
       "      <td>2017-09-01</td>\n",
       "      <td>Yeezy</td>\n",
       "      <td>Adidas Yeezy Boost 350 V2 Core Black Copper</td>\n",
       "      <td>685.0</td>\n",
       "      <td>220.0</td>\n",
       "      <td>2016-11-23</td>\n",
       "      <td>11.0</td>\n",
       "      <td>California</td>\n",
       "      <td>465.0</td>\n",
       "      <td>9</td>\n",
       "      <td>False</td>\n",
       "      <td>False</td>\n",
       "      <td>True</td>\n",
       "      <td>211.36</td>\n",
       "      <td>4</td>\n",
       "      <td>311</td>\n",
       "    </tr>\n",
       "    <tr>\n",
       "      <th>2</th>\n",
       "      <td>2017-09-01</td>\n",
       "      <td>Yeezy</td>\n",
       "      <td>Adidas Yeezy Boost 350 V2 Core Black Green</td>\n",
       "      <td>690.0</td>\n",
       "      <td>220.0</td>\n",
       "      <td>2016-11-23</td>\n",
       "      <td>11.0</td>\n",
       "      <td>California</td>\n",
       "      <td>470.0</td>\n",
       "      <td>9</td>\n",
       "      <td>False</td>\n",
       "      <td>False</td>\n",
       "      <td>True</td>\n",
       "      <td>213.64</td>\n",
       "      <td>4</td>\n",
       "      <td>311</td>\n",
       "    </tr>\n",
       "    <tr>\n",
       "      <th>3</th>\n",
       "      <td>2017-09-01</td>\n",
       "      <td>Yeezy</td>\n",
       "      <td>Adidas Yeezy Boost 350 V2 Core Black Red</td>\n",
       "      <td>1075.0</td>\n",
       "      <td>220.0</td>\n",
       "      <td>2016-11-23</td>\n",
       "      <td>11.5</td>\n",
       "      <td>Kentucky</td>\n",
       "      <td>855.0</td>\n",
       "      <td>9</td>\n",
       "      <td>False</td>\n",
       "      <td>False</td>\n",
       "      <td>True</td>\n",
       "      <td>388.64</td>\n",
       "      <td>4</td>\n",
       "      <td>311</td>\n",
       "    </tr>\n",
       "    <tr>\n",
       "      <th>4</th>\n",
       "      <td>2017-09-01</td>\n",
       "      <td>Yeezy</td>\n",
       "      <td>Adidas Yeezy Boost 350 V2 Core Black Red 2017</td>\n",
       "      <td>828.0</td>\n",
       "      <td>220.0</td>\n",
       "      <td>2017-02-11</td>\n",
       "      <td>11.0</td>\n",
       "      <td>Rhode Island</td>\n",
       "      <td>608.0</td>\n",
       "      <td>9</td>\n",
       "      <td>False</td>\n",
       "      <td>False</td>\n",
       "      <td>True</td>\n",
       "      <td>276.36</td>\n",
       "      <td>4</td>\n",
       "      <td>231</td>\n",
       "    </tr>\n",
       "  </tbody>\n",
       "</table>\n",
       "</div>"
      ],
      "text/plain": [
       "  Order_Date   Brand                                   Sneaker_Name  \\\n",
       "0 2017-09-01   Yeezy           Adidas Yeezy Boost 350 Low V2 Beluga   \n",
       "1 2017-09-01   Yeezy    Adidas Yeezy Boost 350 V2 Core Black Copper   \n",
       "2 2017-09-01   Yeezy     Adidas Yeezy Boost 350 V2 Core Black Green   \n",
       "3 2017-09-01   Yeezy       Adidas Yeezy Boost 350 V2 Core Black Red   \n",
       "4 2017-09-01   Yeezy  Adidas Yeezy Boost 350 V2 Core Black Red 2017   \n",
       "\n",
       "   Sale_Price  Retail_Price Release_Date  Shoe_Size  Buyer_Region  Profit  \\\n",
       "0      1097.0         220.0   2016-09-24       11.0    California   877.0   \n",
       "1       685.0         220.0   2016-11-23       11.0    California   465.0   \n",
       "2       690.0         220.0   2016-11-23       11.0    California   470.0   \n",
       "3      1075.0         220.0   2016-11-23       11.5      Kentucky   855.0   \n",
       "4       828.0         220.0   2017-02-11       11.0  Rhode Island   608.0   \n",
       "\n",
       "   Month  Bought for Less than Retail  Bought for Retail  \\\n",
       "0      9                        False              False   \n",
       "1      9                        False              False   \n",
       "2      9                        False              False   \n",
       "3      9                        False              False   \n",
       "4      9                        False              False   \n",
       "\n",
       "   Bought for More than Retail     ROI  Day  Days_Since_Release  \n",
       "0                         True  398.64    4                 371  \n",
       "1                         True  211.36    4                 311  \n",
       "2                         True  213.64    4                 311  \n",
       "3                         True  388.64    4                 311  \n",
       "4                         True  276.36    4                 231  "
      ]
     },
     "execution_count": 31,
     "metadata": {},
     "output_type": "execute_result"
    }
   ],
   "source": [
    "df['ROI'] = round(((df['Sale_Price'] - df['Retail_Price']) / df['Retail_Price']) * 100, 2)\n",
    "df['Month'] = df.Order_Date.dt.month\n",
    "df['Day'] = df.Order_Date.dt.weekday\n",
    "df['Days_Since_Release'] = (df['Order_Date'] - df['Release_Date']).dt.days.astype('int64')\n",
    "df = df[df['Days_Since_Release'] > -30]\n",
    "df['Days_Since_Release'] = df['Days_Since_Release'] + 29\n",
    "df.head()"
   ]
  },
  {
   "cell_type": "code",
   "execution_count": 32,
   "id": "7d00e116-2e98-414a-b184-739127e796b5",
   "metadata": {
    "tags": []
   },
   "outputs": [
    {
     "data": {
      "image/png": "[encoded data removed]",
      "text/plain": [
       "<Figure size 640x480 with 1 Axes>"
      ]
     },
     "metadata": {},
     "output_type": "display_data"
    }
   ],
   "source": [
    "roi_counts = df['ROI'].value_counts().sort_index()\n",
    "ax = roi_counts.plot.bar(width=2)\n",
    "\n",
    "ax.set_xlabel('ROI')\n",
    "ax.set_ylabel('Count')\n",
    "ax.set_title('Count of Each ROI')\n",
    "\n",
    "max_roi = 2000\n",
    "ticks = range(0, max_roi + 500, 500)\n",
    "\n",
    "ax.set_xticks(ticks)\n",
    "ax.set_xlim(left=0, right=max_roi)\n",
    "\n",
    "ax.set_xticklabels([str(tick) for tick in ticks], rotation=45)\n",
    "\n",
    "plt.show()\n"
   ]
  },
  {
   "cell_type": "markdown",
   "id": "cfaa02d6",
   "metadata": {},
   "source": [
    "## Modeling\n",
    "In this project, the Return on Investment (ROI) variable was created as the target variable to classify sneakers into two categories: High ROI and Low ROI. The categorization was based on the resale price relative to the retail price.\n",
    "\n",
    "Initially, the data was imbalanced, with a significantly larger proportion of sneakers falling into the High ROI category compared to the Low ROI category. This imbalance led to a skewed model performance, as the RandomForestClassifier achieved a high precision score of 99%. However, this score was indicative of overfitting rather than true predictive accuracy, as the model disproportionately favored the majority class.\n",
    "\n",
    "To address this, the data was rebalanced through sampling techniques, creating a more equitable distribution between the High and Low ROI categories. After rebalancing, the model was retrained, achieving a more realistic and reliable precision score of 93%.\n",
    "\n",
    "This process highlights the importance of addressing class imbalance to ensure the model's performance reflects its ability to generalize across all categories."
   ]
  },
  {
   "cell_type": "code",
   "execution_count": 33,
   "id": "d2c6b6e1-519c-4275-9c0c-8c977a439353",
   "metadata": {
    "tags": []
   },
   "outputs": [
    {
     "name": "stdout",
     "output_type": "stream",
     "text": [
      "Mean Squared Error: 1602.9108644138305\n",
      "R^2 Score: 0.9287229921488409\n"
     ]
    }
   ],
   "source": [
    "from sklearn.ensemble import RandomForestRegressor\n",
    "from sklearn.model_selection import train_test_split\n",
    "from sklearn.metrics import mean_squared_error, r2_score\n",
    "\n",
    "predictors = [\"Brand\", \"Retail_Price\", \"Sneaker_Name\", \"Shoe_Size\", 'Month', 'Day']\n",
    "target = 'ROI'\n",
    "\n",
    "df_encoded = pd.get_dummies(df[predictors])\n",
    "\n",
    "X = df_encoded\n",
    "y = df[target]\n",
    "\n",
    "X_train, X_test, y_train, y_test = train_test_split(X, y, test_size=.2, random_state=1)\n",
    "\n",
    "model = RandomForestRegressor(n_estimators=250, min_samples_split=100, random_state=1)\n",
    "model.fit(X_train, y_train)\n",
    "\n",
    "predictions = model.predict(X_test)\n",
    "\n",
    "mse = mean_squared_error(y_test, predictions)\n",
    "r2 = r2_score(y_test, predictions)\n",
    "\n",
    "print(f\"Mean Squared Error: {mse}\")\n",
    "print(f\"R^2 Score: {r2}\")\n"
   ]
  },
  {
   "cell_type": "code",
   "execution_count": 34,
   "id": "bbe87af2-7004-45c3-a5a3-c5399ba8ee7c",
   "metadata": {
    "tags": []
   },
   "outputs": [
    {
     "name": "stdout",
     "output_type": "stream",
     "text": [
      "Precision Score: 0.9923740718442705\n"
     ]
    }
   ],
   "source": [
    "from sklearn.ensemble import RandomForestClassifier\n",
    "from sklearn.metrics import precision_score\n",
    "\n",
    "df['ROI_Category'] = pd.cut(df['ROI'], bins=[-float('inf'), 0, float('inf')], labels=['Low', 'High'])\n",
    "\n",
    "predictors = [\"Brand\", \"Retail_Price\", \"Sneaker_Name\", \"Shoe_Size\", 'Month', 'Day']\n",
    "target = 'ROI_Category'\n",
    "\n",
    "df_encoded = pd.get_dummies(df[predictors])\n",
    "\n",
    "X = df_encoded\n",
    "y = df[target]\n",
    "\n",
    "X_train, X_test, y_train, y_test = train_test_split(X, y, test_size=0.2, random_state=1)\n",
    "\n",
    "model = RandomForestClassifier(n_estimators=100, min_samples_split=50, random_state=1)\n",
    "model.fit(X_train, y_train)\n",
    "\n",
    "predictions = model.predict(X_test)\n",
    "\n",
    "precision = precision_score(y_test, predictions, pos_label='High')\n",
    "\n",
    "print(f\"Precision Score: {precision}\")"
   ]
  },
  {
   "cell_type": "code",
   "execution_count": 35,
   "id": "f7154736-5e00-400c-aa6b-5175065f39ff",
   "metadata": {
    "tags": []
   },
   "outputs": [
    {
     "name": "stdout",
     "output_type": "stream",
     "text": [
      "[[19780     8]\n",
      " [  152    11]]\n"
     ]
    }
   ],
   "source": [
    "from sklearn.metrics import confusion_matrix\n",
    "print(confusion_matrix(y_test, predictions))"
   ]
  },
  {
   "cell_type": "code",
   "execution_count": 36,
   "id": "52ecba6b-d283-4004-b382-7b3c5b2b154d",
   "metadata": {
    "tags": []
   },
   "outputs": [
    {
     "name": "stdout",
     "output_type": "stream",
     "text": [
      "              precision    recall  f1-score   support\n",
      "\n",
      "        High       0.99      1.00      1.00     19788\n",
      "         Low       0.58      0.07      0.12       163\n",
      "\n",
      "    accuracy                           0.99     19951\n",
      "   macro avg       0.79      0.53      0.56     19951\n",
      "weighted avg       0.99      0.99      0.99     19951\n",
      "\n"
     ]
    }
   ],
   "source": [
    "from sklearn.metrics import classification_report\n",
    "print(classification_report(y_test, predictions))"
   ]
  },
  {
   "cell_type": "code",
   "execution_count": 37,
   "id": "ce10f3b2-da65-4d1d-b2e9-a08e5db9b4ec",
   "metadata": {
    "tags": []
   },
   "outputs": [
    {
     "name": "stdout",
     "output_type": "stream",
     "text": [
      "ROI_Category\n",
      "High    79079\n",
      "Low       724\n",
      "Name: count, dtype: int64\n",
      "ROI_Category\n",
      "High    19788\n",
      "Low       163\n",
      "Name: count, dtype: int64\n"
     ]
    }
   ],
   "source": [
    "print(y_train.value_counts())\n",
    "print(y_test.value_counts())"
   ]
  },
  {
   "cell_type": "code",
   "execution_count": 38,
   "id": "defcf662-a20e-4f89-9b46-56fe4c22084b",
   "metadata": {},
   "outputs": [],
   "source": [
    "#Resampling data because data was highly imbalanced\n",
    "from sklearn.utils import resample\n",
    "\n",
    "df_high = df[df['ROI_Category'] == 'High']\n",
    "df_low = df[df['ROI_Category'] == 'Low']\n",
    "\n",
    "# Downsample majority class\n",
    "df_high_downsampled = resample(df_high, replace=False, n_samples=len(df_low), random_state=1)\n",
    "\n",
    "# Combine downsampled majority with minority\n",
    "df_balanced = pd.concat([df_high_downsampled, df_low])\n"
   ]
  },
  {
   "cell_type": "code",
   "execution_count": 39,
   "id": "a4a81f90-87ce-45dc-9061-0cb4fdb1afd4",
   "metadata": {
    "tags": []
   },
   "outputs": [],
   "source": [
    "predictors = [\"Brand\", \"Retail_Price\", \"Sneaker_Name\", \"Shoe_Size\"]\n",
    "df_balanced_encoded = pd.get_dummies(df_balanced[predictors])\n",
    "X_balanced = df_balanced_encoded\n",
    "y_balanced = df_balanced['ROI_Category']\n"
   ]
  },
  {
   "cell_type": "code",
   "execution_count": 40,
   "id": "d5e064f8-93ad-4d8c-9ee0-d1ee3fc8a93a",
   "metadata": {
    "tags": []
   },
   "outputs": [
    {
     "name": "stdout",
     "output_type": "stream",
     "text": [
      "Balanced Precision Score: 0.9276315789473685\n"
     ]
    }
   ],
   "source": [
    "from sklearn.model_selection import train_test_split\n",
    "from sklearn.ensemble import RandomForestClassifier\n",
    "from sklearn.metrics import precision_score\n",
    "\n",
    "# Train-test split\n",
    "X_train_balanced, X_test_balanced, y_train_balanced, y_test_balanced = train_test_split(X_balanced, y_balanced, test_size=0.2, random_state=1)\n",
    "\n",
    "# Train the model\n",
    "model_balanced = RandomForestClassifier(n_estimators=100, min_samples_split=50, random_state=1)\n",
    "model_balanced.fit(X_train_balanced, y_train_balanced)\n",
    "\n",
    "# Make predictions and evaluate\n",
    "predictions_balanced = model_balanced.predict(X_test_balanced)\n",
    "precision_balanced = precision_score(y_test_balanced, predictions_balanced, pos_label='High')\n",
    "print(f\"Balanced Precision Score: {precision_balanced}\")\n"
   ]
  },
  {
   "cell_type": "markdown",
   "id": "24451c81",
   "metadata": {},
   "source": [
    "## Conclusion\n",
    "The notebook demonstrates a comprehensive approach to predicting sneaker resale prices. Key takeaways include the importance of feature selection and tuning model parameters for optimal performance. Potential next steps involve incorporating external data such as market trends or brand popularity indices."
   ]
  }
 ],
 "metadata": {
  "kernelspec": {
   "display_name": "Python 3",
   "language": "python",
   "name": "python3"
  },
  "language_info": {
   "codemirror_mode": {
    "name": "ipython",
    "version": 3
   },
   "file_extension": ".py",
   "mimetype": "text/x-python",
   "name": "python",
   "nbconvert_exporter": "python",
   "pygments_lexer": "ipython3",
   "version": "3.11.8"
  }
 },
 "nbformat": 4,
 "nbformat_minor": 5
}
